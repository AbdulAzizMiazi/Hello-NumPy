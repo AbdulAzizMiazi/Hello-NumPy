{
 "cells": [
  {
   "cell_type": "markdown",
   "id": "17213df1",
   "metadata": {},
   "source": [
    "### Learning NumPy!"
   ]
  },
  {
   "cell_type": "markdown",
   "id": "a657c053",
   "metadata": {},
   "source": [
    "Numpy Documantation: https://numpy.org/doc/stable/reference/generated/numpy.ndarray.html"
   ]
  },
  {
   "cell_type": "markdown",
   "id": "423f124a",
   "metadata": {},
   "source": [
    "**Very Baisc Stuffs of Arrays in NumPy**"
   ]
  },
  {
   "cell_type": "code",
   "execution_count": 1,
   "id": "dba4e4b4",
   "metadata": {},
   "outputs": [],
   "source": [
    "import numpy as np"
   ]
  },
  {
   "cell_type": "code",
   "execution_count": 2,
   "id": "de25dae3",
   "metadata": {},
   "outputs": [
    {
     "data": {
      "text/plain": [
       "88"
      ]
     },
     "execution_count": 2,
     "metadata": {},
     "output_type": "execute_result"
    }
   ],
   "source": [
    "simpleArr = np.array([56, 67, 21, 88, 8])\n",
    "\n",
    "simpleArr[simpleArr.shape[0]-2]  # ajaira pechal ;-)"
   ]
  },
  {
   "cell_type": "code",
   "execution_count": 3,
   "id": "89715bf1",
   "metadata": {},
   "outputs": [
    {
     "data": {
      "text/plain": [
       "array([[22, 34],\n",
       "       [90, 45],\n",
       "       [89,  5]], dtype=int8)"
      ]
     },
     "execution_count": 3,
     "metadata": {},
     "output_type": "execute_result"
    }
   ],
   "source": [
    "myArr = np.array([[22, 34], [90, 45], [89, 5]], np.int8)\n",
    "myArr"
   ]
  },
  {
   "cell_type": "code",
   "execution_count": 4,
   "id": "a7bcf947",
   "metadata": {},
   "outputs": [
    {
     "data": {
      "text/plain": [
       "dtype('int8')"
      ]
     },
     "execution_count": 4,
     "metadata": {},
     "output_type": "execute_result"
    }
   ],
   "source": [
    "myArr.dtype  # data type the array elements"
   ]
  },
  {
   "cell_type": "code",
   "execution_count": 5,
   "id": "36ef3b76",
   "metadata": {},
   "outputs": [
    {
     "data": {
      "text/plain": [
       "5"
      ]
     },
     "execution_count": 5,
     "metadata": {},
     "output_type": "execute_result"
    }
   ],
   "source": [
    "myArr[2, 1]  # accessing the element of 3rd row 2nd column"
   ]
  },
  {
   "cell_type": "code",
   "execution_count": 6,
   "id": "58f46be7",
   "metadata": {},
   "outputs": [
    {
     "data": {
      "text/plain": [
       "(3, 2)"
      ]
     },
     "execution_count": 6,
     "metadata": {},
     "output_type": "execute_result"
    }
   ],
   "source": [
    "myArr.shape  # shape of the array"
   ]
  },
  {
   "cell_type": "code",
   "execution_count": 7,
   "id": "89f599fa",
   "metadata": {},
   "outputs": [
    {
     "data": {
      "text/plain": [
       "6"
      ]
     },
     "execution_count": 7,
     "metadata": {},
     "output_type": "execute_result"
    }
   ],
   "source": [
    "myArr.size  # returns the total number of array elements"
   ]
  },
  {
   "cell_type": "markdown",
   "id": "15a221ea",
   "metadata": {},
   "source": [
    "***# array with objects as elements***"
   ]
  },
  {
   "cell_type": "code",
   "execution_count": 8,
   "id": "fcd9309e",
   "metadata": {},
   "outputs": [
    {
     "data": {
      "text/plain": [
       "array({56, 89}, dtype=object)"
      ]
     },
     "execution_count": 8,
     "metadata": {},
     "output_type": "execute_result"
    }
   ],
   "source": [
    "obArray = np.array({56, 89, 56})  \n",
    "# not recomended => reduces efficiency...!\n",
    "obArray"
   ]
  },
  {
   "cell_type": "markdown",
   "id": "cc88f3fd",
   "metadata": {},
   "source": [
    "***# Intrinsic numpy array creation objects***"
   ]
  },
  {
   "cell_type": "markdown",
   "id": "60f42a02",
   "metadata": {},
   "source": [
    "**1. Zeros as elements**"
   ]
  },
  {
   "cell_type": "code",
   "execution_count": 9,
   "id": "cbc271a4",
   "metadata": {},
   "outputs": [
    {
     "data": {
      "text/plain": [
       "array([[0, 0, 0, 0],\n",
       "       [0, 0, 0, 0]], dtype=int8)"
      ]
     },
     "execution_count": 9,
     "metadata": {},
     "output_type": "execute_result"
    }
   ],
   "source": [
    "zeros = np.zeros((2, 4), np.int8)\n",
    "zeros"
   ]
  },
  {
   "cell_type": "markdown",
   "id": "d12ada10",
   "metadata": {},
   "source": [
    "**2. Range array**"
   ]
  },
  {
   "cell_type": "code",
   "execution_count": 10,
   "id": "fc562e56",
   "metadata": {},
   "outputs": [
    {
     "data": {
      "text/plain": [
       "array([ 0,  1,  2,  3,  4,  5,  6,  7,  8,  9, 10, 11, 12, 13, 14, 15, 16,\n",
       "       17, 18, 19, 20, 21, 22, 23, 24, 25, 26, 27, 28, 29])"
      ]
     },
     "execution_count": 10,
     "metadata": {},
     "output_type": "execute_result"
    }
   ],
   "source": [
    "array_size = 30\n",
    "rng = np.arange(array_size)  # returns an x size of array\n",
    "rng"
   ]
  },
  {
   "cell_type": "markdown",
   "id": "7c47a3f5",
   "metadata": {},
   "source": [
    "**3. Linearly / equally spaced array elements**"
   ]
  },
  {
   "cell_type": "code",
   "execution_count": 11,
   "id": "77280f4d",
   "metadata": {},
   "outputs": [
    {
     "data": {
      "text/plain": [
       "array([ 1.        ,  6.44444444, 11.88888889, 17.33333333, 22.77777778,\n",
       "       28.22222222, 33.66666667, 39.11111111, 44.55555556, 50.        ])"
      ]
     },
     "execution_count": 11,
     "metadata": {},
     "output_type": "execute_result"
    }
   ],
   "source": [
    "strt_point = 1  # starting point\n",
    "end_point = 50 # ending point\n",
    "elemnt_num = 10 # required number of elements in the array\n",
    "\n",
    "lnspace = np.linspace(strt_point, end_point, elemnt_num)\n",
    "lnspace"
   ]
  },
  {
   "cell_type": "markdown",
   "id": "d6e15ab5",
   "metadata": {},
   "source": [
    "**4. Empty Array *i.e. array with random values/elements***"
   ]
  },
  {
   "cell_type": "code",
   "execution_count": 12,
   "id": "0fe49914",
   "metadata": {},
   "outputs": [
    {
     "data": {
      "text/plain": [
       "array([[3.56043053e-307, 1.37961641e-306, 1.37962320e-306,\n",
       "        1.78019354e-306, 1.33508845e-306, 1.33511969e-306],\n",
       "       [1.24610383e-306, 1.69118108e-306, 8.06632139e-308,\n",
       "        1.20160711e-306, 1.69119330e-306, 1.29062229e-306],\n",
       "       [1.60217812e-306, 1.37961370e-306, 1.42417629e-306,\n",
       "        1.11258277e-307, 1.05700515e-307, 1.11261774e-306],\n",
       "       [1.29060871e-306, 8.34424766e-308, 8.34445138e-308,\n",
       "        1.37959129e-306, 1.02360528e-306, 1.14469050e+243]])"
      ]
     },
     "execution_count": 12,
     "metadata": {},
     "output_type": "execute_result"
    }
   ],
   "source": [
    "x = 4  # required number of rows\n",
    "y = 6  # required number of columns / elements-per-row\n",
    "emp = np.empty((x, y))\n",
    "emp"
   ]
  },
  {
   "cell_type": "markdown",
   "id": "983ab3b9",
   "metadata": {},
   "source": [
    "**4.1. Empty_like**"
   ]
  },
  {
   "cell_type": "code",
   "execution_count": 13,
   "id": "74448d12",
   "metadata": {},
   "outputs": [
    {
     "data": {
      "text/plain": [
       "array([[-112, -128],\n",
       "       [ -22, -122],\n",
       "       [   3,    2]], dtype=int8)"
      ]
     },
     "execution_count": 13,
     "metadata": {},
     "output_type": "execute_result"
    }
   ],
   "source": [
    "# creates an empty array which is equally sized & similer to an exsiting array\n",
    "# And the values will be random values like the empty array\n",
    "emp_like = np.empty_like(myArr)\n",
    "emp_like"
   ]
  },
  {
   "cell_type": "markdown",
   "id": "6382c867",
   "metadata": {},
   "source": [
    "**5. Identity array**"
   ]
  },
  {
   "cell_type": "code",
   "execution_count": 14,
   "id": "6504e913",
   "metadata": {},
   "outputs": [
    {
     "data": {
      "text/plain": [
       "array([[1., 0., 0., 0., 0., 0., 0., 0., 0., 0.],\n",
       "       [0., 1., 0., 0., 0., 0., 0., 0., 0., 0.],\n",
       "       [0., 0., 1., 0., 0., 0., 0., 0., 0., 0.],\n",
       "       [0., 0., 0., 1., 0., 0., 0., 0., 0., 0.],\n",
       "       [0., 0., 0., 0., 1., 0., 0., 0., 0., 0.],\n",
       "       [0., 0., 0., 0., 0., 1., 0., 0., 0., 0.],\n",
       "       [0., 0., 0., 0., 0., 0., 1., 0., 0., 0.],\n",
       "       [0., 0., 0., 0., 0., 0., 0., 1., 0., 0.],\n",
       "       [0., 0., 0., 0., 0., 0., 0., 0., 1., 0.],\n",
       "       [0., 0., 0., 0., 0., 0., 0., 0., 0., 1.]])"
      ]
     },
     "execution_count": 14,
     "metadata": {},
     "output_type": "execute_result"
    }
   ],
   "source": [
    "ide = np.identity(10)\n",
    "ide"
   ]
  },
  {
   "cell_type": "markdown",
   "id": "0ab88395",
   "metadata": {},
   "source": [
    "**Other Important Methods:**"
   ]
  },
  {
   "cell_type": "code",
   "execution_count": 15,
   "id": "3da3c1c3",
   "metadata": {},
   "outputs": [
    {
     "data": {
      "text/plain": [
       "array([[ 0,  1,  2,  3,  4,  5],\n",
       "       [ 6,  7,  8,  9, 10, 11],\n",
       "       [12, 13, 14, 15, 16, 17],\n",
       "       [18, 19, 20, 21, 22, 23],\n",
       "       [24, 25, 26, 27, 28, 29]])"
      ]
     },
     "execution_count": 15,
     "metadata": {},
     "output_type": "execute_result"
    }
   ],
   "source": [
    "# reshaping an array\n",
    "row_num = 5\n",
    "element_num = 6\n",
    "# rng array has 30 elements => row_num * element = 30; this is a must match\n",
    "rng = rng.reshape(row_num, element_num)\n",
    "rng  # Now rng array has reshaped"
   ]
  },
  {
   "cell_type": "code",
   "execution_count": 16,
   "id": "eaa82b8e",
   "metadata": {},
   "outputs": [
    {
     "data": {
      "text/plain": [
       "array([3.56043053e-307, 1.37961641e-306, 1.37962320e-306, 1.78019354e-306,\n",
       "       1.33508845e-306, 1.33511969e-306, 1.24610383e-306, 1.69118108e-306,\n",
       "       8.06632139e-308, 1.20160711e-306, 1.69119330e-306, 1.29062229e-306,\n",
       "       1.60217812e-306, 1.37961370e-306, 1.42417629e-306, 1.11258277e-307,\n",
       "       1.05700515e-307, 1.11261774e-306, 1.29060871e-306, 8.34424766e-308,\n",
       "       8.34445138e-308, 1.37959129e-306, 1.02360528e-306, 1.14469050e+243])"
      ]
     },
     "execution_count": 16,
     "metadata": {},
     "output_type": "execute_result"
    }
   ],
   "source": [
    "# ravel method : turn any array into a 1D array\n",
    "emp  = emp.ravel()\n",
    "emp"
   ]
  },
  {
   "cell_type": "markdown",
   "id": "a3325c93",
   "metadata": {},
   "source": [
    "**Axises in Array & their various funtionalities *(i.e. Matirx like vehaviour)***"
   ]
  },
  {
   "cell_type": "code",
   "execution_count": 17,
   "id": "9cad4457",
   "metadata": {},
   "outputs": [
    {
     "data": {
      "text/plain": [
       "array([[23, 78, 90],\n",
       "       [45, 76, 23],\n",
       "       [45, 12, 95]])"
      ]
     },
     "execution_count": 17,
     "metadata": {},
     "output_type": "execute_result"
    }
   ],
   "source": [
    "# Let's define a 2D-array / vector-matrix\n",
    "vec = [[23, 78, 90],\n",
    "       [45, 76, 23],\n",
    "       [45, 12, 95]]\n",
    "np_vec = np.array(vec)\n",
    "np_vec"
   ]
  },
  {
   "cell_type": "markdown",
   "id": "d004195d",
   "metadata": {},
   "source": [
    "**>> Sum of Columns / Rows:**"
   ]
  },
  {
   "cell_type": "code",
   "execution_count": 18,
   "id": "706d3559",
   "metadata": {},
   "outputs": [
    {
     "name": "stdout",
     "output_type": "stream",
     "text": [
      "Columns Total:\t [113 166 208]\n",
      "Rows Total: \t [191 144 152]\n"
     ]
    }
   ],
   "source": [
    "col_tot = np_vec.sum(axis=0)  # Sum of columns\n",
    "print(\"Columns Total:\\t\", col_tot)\n",
    "row_tot = np_vec.sum(axis=1) # Sum of rows\n",
    "print(\"Rows Total: \\t\", row_tot)"
   ]
  },
  {
   "cell_type": "markdown",
   "id": "3472d245",
   "metadata": {},
   "source": [
    "**Note:** *In 2D array, columns are axis=0 & rows are axis=1* \n",
    "\n",
    "*But, In 1D array, there is only One axis (axis=0)*"
   ]
  },
  {
   "cell_type": "markdown",
   "id": "410c7172",
   "metadata": {},
   "source": [
    "**> Transpose Array:**"
   ]
  },
  {
   "cell_type": "code",
   "execution_count": 19,
   "id": "55415ab3",
   "metadata": {},
   "outputs": [
    {
     "data": {
      "text/plain": [
       "array([[23, 45, 45],\n",
       "       [78, 76, 12],\n",
       "       [90, 23, 95]])"
      ]
     },
     "execution_count": 19,
     "metadata": {},
     "output_type": "execute_result"
    }
   ],
   "source": [
    "np_vec.T"
   ]
  },
  {
   "cell_type": "markdown",
   "id": "609b2654",
   "metadata": {},
   "source": [
    "**> Flat attribute / iterator**"
   ]
  },
  {
   "cell_type": "code",
   "execution_count": 20,
   "id": "dc8b748c",
   "metadata": {},
   "outputs": [
    {
     "name": "stdout",
     "output_type": "stream",
     "text": [
      "23 78 90 45 76 23 45 12 95 "
     ]
    }
   ],
   "source": [
    "elements = np_vec.flat \n",
    "# It's basically an array of all elements of the 2D array(i.e. it's a iterator)\n",
    "for e in elements:\n",
    "    print(e, end=\" \")"
   ]
  },
  {
   "cell_type": "markdown",
   "id": "341885c4",
   "metadata": {},
   "source": [
    "**> Other Very Important Attributes / Methods:**"
   ]
  },
  {
   "cell_type": "code",
   "execution_count": 21,
   "id": "77a32ecc",
   "metadata": {},
   "outputs": [
    {
     "data": {
      "text/plain": [
       "2"
      ]
     },
     "execution_count": 21,
     "metadata": {},
     "output_type": "execute_result"
    }
   ],
   "source": [
    "# Dimension of the array:\n",
    "np_vec.ndim # Here: it answers 2 as it's an 2D array"
   ]
  },
  {
   "cell_type": "code",
   "execution_count": 22,
   "id": "bd01e4e4",
   "metadata": {},
   "outputs": [
    {
     "data": {
      "text/plain": [
       "36"
      ]
     },
     "execution_count": 22,
     "metadata": {},
     "output_type": "execute_result"
    }
   ],
   "source": [
    "# Total size of the array IN BYTES\n",
    "np_vec.nbytes"
   ]
  },
  {
   "cell_type": "code",
   "execution_count": 23,
   "id": "0f1be217",
   "metadata": {},
   "outputs": [
    {
     "name": "stdout",
     "output_type": "stream",
     "text": [
      "Max Num: \t 95\n",
      "Max in Columns:  [1 0 2]\n",
      "Max in Rows: \t [2 1 2]\n"
     ]
    }
   ],
   "source": [
    "# Index of the BIGGEST element of the array\n",
    "max_ele_indx = np_vec.argmax()\n",
    "\n",
    "max_num = elements[max_ele_indx]  # \"elements\" is the iterator of \"np_vec\"\n",
    "print(\"Max Num: \\t\", max_num)\n",
    "\n",
    "# Do it by Axises:\n",
    "cols_max = np_vec.argmax(axis=0)\n",
    "print(\"Max in Columns: \", cols_max)\n",
    "rows_max = np_vec.argmax(axis=1)\n",
    "print(\"Max in Rows: \\t\", rows_max)"
   ]
  },
  {
   "cell_type": "code",
   "execution_count": 24,
   "id": "bbbd1bab",
   "metadata": {},
   "outputs": [
    {
     "data": {
      "text/plain": [
       "12"
      ]
     },
     "execution_count": 24,
     "metadata": {},
     "output_type": "execute_result"
    }
   ],
   "source": [
    "# Index of the SMALLEST element of the array\n",
    "min_ele_indx = np_vec.argmin()\n",
    "\n",
    "elements[min_ele_indx]  # \"elements\" is the iterator of \"np_vec\"\n",
    "\n",
    "# Do it by Axises: **similar to the .argmax()"
   ]
  },
  {
   "cell_type": "code",
   "execution_count": 25,
   "id": "67aebe64",
   "metadata": {},
   "outputs": [
    {
     "name": "stdout",
     "output_type": "stream",
     "text": [
      "Main array:\n",
      " [[23 78 90]\n",
      " [45 76 23]\n",
      " [45 12 95]]\n",
      "Sorted indexes (Default):\n",
      " [[0 1 2]\n",
      " [2 0 1]\n",
      " [1 0 2]]\n",
      "Sorted indexes(rows):\n",
      " [[0 1 2]\n",
      " [2 0 1]\n",
      " [1 0 2]]\n",
      "Sorted indexes (columns):\n",
      " [[0 2 1]\n",
      " [1 1 0]\n",
      " [2 0 2]]\n"
     ]
    }
   ],
   "source": [
    "# returns Indexes of the SORTED elements\n",
    "srtd_np_vec = np_vec.argsort()\n",
    "# Note, in 2D array, the method sorts the array row by row (not the full array)\n",
    "\n",
    "row_srtd_np_vec = np_vec.argsort(axis=1)  # equals to the default sorted vec ^\n",
    "col_srtd_np_vec = np_vec.argsort(axis=0)\n",
    "\n",
    "print(\"Main array:\\n\", np_vec)\n",
    "print(\"Sorted indexes (Default):\\n\", srtd_np_vec)\n",
    "print(\"Sorted indexes(rows):\\n\", row_srtd_np_vec)\n",
    "print(\"Sorted indexes (columns):\\n\", col_srtd_np_vec)\n",
    "\n",
    "# elements.argsort() error: 'numpy.flatiter' object has no attribute 'argsort'"
   ]
  },
  {
   "cell_type": "markdown",
   "id": "848a7de6",
   "metadata": {},
   "source": [
    "***Arithmatirc Operations in numpy arrays:***\n",
    "Power of normal Matrix"
   ]
  },
  {
   "cell_type": "code",
   "execution_count": 26,
   "id": "22891ab0",
   "metadata": {},
   "outputs": [],
   "source": [
    "np_vec1 = np.array([[27, -28, -40],\n",
    "                  [5, -26, 27],\n",
    "                  [5, 38, -45]])"
   ]
  },
  {
   "cell_type": "code",
   "execution_count": 27,
   "id": "087b45b7",
   "metadata": {},
   "outputs": [
    {
     "data": {
      "text/plain": [
       "array([[50, 50, 50],\n",
       "       [50, 50, 50],\n",
       "       [50, 50, 50]])"
      ]
     },
     "execution_count": 27,
     "metadata": {},
     "output_type": "execute_result"
    }
   ],
   "source": [
    "# addition of arrays\n",
    "add_vec = np_vec + np_vec1\n",
    "add_vec"
   ]
  },
  {
   "cell_type": "code",
   "execution_count": 28,
   "id": "b0174202",
   "metadata": {},
   "outputs": [
    {
     "data": {
      "text/plain": [
       "array([[  621, -2184, -3600],\n",
       "       [  225, -1976,   621],\n",
       "       [  225,   456, -4275]])"
      ]
     },
     "execution_count": 28,
     "metadata": {},
     "output_type": "execute_result"
    }
   ],
   "source": [
    "# multiplication of arrays\n",
    "mul_vec = np_vec * np_vec1\n",
    "mul_vec"
   ]
  },
  {
   "cell_type": "code",
   "execution_count": 29,
   "id": "fc7c3506",
   "metadata": {},
   "outputs": [
    {
     "name": "stdout",
     "output_type": "stream",
     "text": [
      "Full Divition:\n",
      " [[ 0.85185185 -2.78571429 -2.25      ]\n",
      " [ 9.         -2.92307692  0.85185185]\n",
      " [ 9.          0.31578947 -2.11111111]]\n",
      "Integral Divition:\n",
      " [[ 0 -3 -3]\n",
      " [ 9 -3  0]\n",
      " [ 9  0 -3]]\n"
     ]
    }
   ],
   "source": [
    "div_vec = np_vec / np_vec1\n",
    "print(\"Full Divition:\\n\", div_vec)\n",
    "\n",
    "rmn_div_vec = np_vec // np_vec1\n",
    "print(\"Integral Divition:\\n\", rmn_div_vec)"
   ]
  },
  {
   "cell_type": "code",
   "execution_count": 30,
   "id": "9d653487",
   "metadata": {},
   "outputs": [
    {
     "data": {
      "text/plain": [
       "array([[4.79583152, 8.83176087, 9.48683298],\n",
       "       [6.70820393, 8.71779789, 4.79583152],\n",
       "       [6.70820393, 3.46410162, 9.74679434]])"
      ]
     },
     "execution_count": 30,
     "metadata": {},
     "output_type": "execute_result"
    }
   ],
   "source": [
    "# squar root of array\n",
    "sqrt_vec = np.sqrt(np_vec)\n",
    "sqrt_vec"
   ]
  },
  {
   "cell_type": "code",
   "execution_count": 31,
   "id": "4d222504",
   "metadata": {},
   "outputs": [
    {
     "data": {
      "text/plain": [
       "487"
      ]
     },
     "execution_count": 31,
     "metadata": {},
     "output_type": "execute_result"
    }
   ],
   "source": [
    "# sum of all elements of single array\n",
    "np_vec.sum()"
   ]
  },
  {
   "cell_type": "code",
   "execution_count": 32,
   "id": "109c970a",
   "metadata": {},
   "outputs": [
    {
     "data": {
      "text/plain": [
       "12"
      ]
     },
     "execution_count": 32,
     "metadata": {},
     "output_type": "execute_result"
    }
   ],
   "source": [
    "# max / min element of an array\n",
    "np_vec.max()\n",
    "np_vec.min()"
   ]
  },
  {
   "cell_type": "code",
   "execution_count": 33,
   "id": "d5aed522",
   "metadata": {},
   "outputs": [
    {
     "data": {
      "text/plain": [
       "(array([0, 0, 1, 2], dtype=int64), array([1, 2, 1, 2], dtype=int64))"
      ]
     },
     "execution_count": 33,
     "metadata": {},
     "output_type": "execute_result"
    }
   ],
   "source": [
    "# searching element with condition\n",
    "\n",
    "special_array = np.where(np_vec > 50)\n",
    "special_array\n",
    "\n",
    "# output: (array([0, 0, 1, 2], dtype=int64), array([1, 2, 1, 2], dtype=int64))\n",
    "# explanation: (row, column)\n",
    "#         0,1 => first element\n",
    "#         0,2 => second element\n",
    "#         1,1 => third element\n",
    "#         2,2 => fourth element"
   ]
  },
  {
   "cell_type": "code",
   "execution_count": 34,
   "id": "8f621018",
   "metadata": {},
   "outputs": [
    {
     "data": {
      "text/plain": [
       "(array([0, 0, 0, 1, 1, 1, 2, 2, 2], dtype=int64),\n",
       " array([0, 1, 2, 0, 1, 2, 0, 1, 2], dtype=int64))"
      ]
     },
     "execution_count": 34,
     "metadata": {},
     "output_type": "execute_result"
    }
   ],
   "source": [
    "# non-zero elements in array\n",
    "\n",
    "np.count_nonzero(np_vec) # number of Non-zero elements\n",
    "\n",
    "np.nonzero(np_vec)  # position of non-zero elements\n",
    "# each touple defines each axis"
   ]
  }
 ],
 "metadata": {
  "kernelspec": {
   "display_name": "Python 3 (ipykernel)",
   "language": "python",
   "name": "python3"
  },
  "language_info": {
   "codemirror_mode": {
    "name": "ipython",
    "version": 3
   },
   "file_extension": ".py",
   "mimetype": "text/x-python",
   "name": "python",
   "nbconvert_exporter": "python",
   "pygments_lexer": "ipython3",
   "version": "3.9.13"
  }
 },
 "nbformat": 4,
 "nbformat_minor": 5
}
